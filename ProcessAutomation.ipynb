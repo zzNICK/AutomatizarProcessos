{
 "cells": [
  {
   "cell_type": "markdown",
   "metadata": {},
   "source": [
    "## CÓDIGO EM PYTHON PARA AUTOMATIZAR ROTINAS"
   ]
  },
  {
   "cell_type": "code",
   "execution_count": 14,
   "metadata": {},
   "outputs": [],
   "source": [
    "import pyautogui\n",
    "import pyperclip\n",
    "import time\n",
    "# 1 - Entrar em uma URL qualquer (entrar em algum link navegavel)\n",
    "\n",
    "pyautogui.PAUSE = 2                                               #Serve para pausar em segundos, cada linha executada\n",
    "pyautogui.hotkey(\"ctrl\", \"t\")                                     #Serve para digitar uma combinação de teclas \n",
    "link = \"https://drive.google.com/drive/u/0/my-drive\"\n",
    "pyperclip.copy(link)                                              #Serve para copiar um texto String\n",
    "pyautogui.hotkey(\"ctrl\", \"v\")\n",
    "pyautogui.press(\"enter\")                                          #Serve para digitar apenas uma unica tecla\n",
    "\n",
    "# pyautogui.write()                                               #Serve para escrever um texto\n",
    "\n",
    "\n",
    "# 2 - Após ter entrado no link, entrar na pasta Planilha\n",
    "\n",
    "time.sleep(3)                                                     #Feito para esperar alguns segundos(Nesse caso, 3 seg)\n",
    "pyautogui.click(x=351, y=608, clicks=3)                           #Deve CLICAR na posição escolhida\n",
    "\n",
    "# 3 - Fazer o download do arquivo em excel chamada de \"VendasDez\"\n"
   ]
  },
  {
   "cell_type": "code",
   "execution_count": 7,
   "metadata": {},
   "outputs": [],
   "source": [
    "# 4 - Fazer os cálculos dos Faturamentos e produtos vendidos"
   ]
  },
  {
   "cell_type": "code",
   "execution_count": 8,
   "metadata": {},
   "outputs": [],
   "source": [
    "# 5 - Enviar um email para a diretoria, mostrando os cálculos feitos"
   ]
  },
  {
   "cell_type": "code",
   "execution_count": null,
   "metadata": {},
   "outputs": [],
   "source": []
  },
  {
   "cell_type": "code",
   "execution_count": 18,
   "metadata": {},
   "outputs": [
    {
     "data": {
      "text/plain": [
       "Point(x=383, y=167)"
      ]
     },
     "execution_count": 18,
     "metadata": {},
     "output_type": "execute_result"
    }
   ],
   "source": [
    "# Testar posições do mouse\n",
    "pyautogui.position()                                              #Fazer o mouse MOVER para uma posição especifica"
   ]
  },
  {
   "cell_type": "code",
   "execution_count": null,
   "metadata": {},
   "outputs": [],
   "source": []
  }
 ],
 "metadata": {
  "kernelspec": {
   "display_name": "Python 3 (ipykernel)",
   "language": "python",
   "name": "python3"
  },
  "language_info": {
   "codemirror_mode": {
    "name": "ipython",
    "version": 3
   },
   "file_extension": ".py",
   "mimetype": "text/x-python",
   "name": "python",
   "nbconvert_exporter": "python",
   "pygments_lexer": "ipython3",
   "version": "3.8.5"
  }
 },
 "nbformat": 4,
 "nbformat_minor": 4
}
